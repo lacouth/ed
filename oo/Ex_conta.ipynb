{
 "cells": [
  {
   "cell_type": "markdown",
   "metadata": {},
   "source": [
    "## Classe conta"
   ]
  },
  {
   "cell_type": "code",
   "execution_count": 12,
   "metadata": {},
   "outputs": [],
   "source": [
    "class Conta:\n",
    "    def __init__(self, saldo, numero):\n",
    "        self.setSaldo(saldo)\n",
    "        self._numero = numero\n",
    "    \n",
    "    def setSaldo(self, saldo):\n",
    "        if saldo > 0:\n",
    "            self._saldo = saldo\n",
    "        else:\n",
    "            self._saldo = 0\n",
    "            \n",
    "    def saque(self, valor):\n",
    "        if valor <= self._saldo:\n",
    "             self._saldo-=valor\n",
    "    def deposito(self, valor):\n",
    "        if valor > 0:\n",
    "            self._saldo+=valor\n",
    "    def get_saldo(self):\n",
    "        return self._saldo\n",
    "    def transferencia(self, valor, ContaDestino):\n",
    "        if valor <= self._saldo:\n",
    "            ContaDestino.deposito(valor)\n",
    "            self.saque(valor)\n",
    "            "
   ]
  },
  {
   "cell_type": "markdown",
   "metadata": {},
   "source": [
    "## Testar classe conta"
   ]
  },
  {
   "cell_type": "code",
   "execution_count": 13,
   "metadata": {},
   "outputs": [
    {
     "data": {
      "text/plain": [
       "0"
      ]
     },
     "execution_count": 13,
     "metadata": {},
     "output_type": "execute_result"
    }
   ],
   "source": [
    "cliente = Conta(-2.,1234)\n",
    "# cliente.deposito(500)\n",
    "cliente.get_saldo()"
   ]
  },
  {
   "cell_type": "code",
   "execution_count": 7,
   "metadata": {},
   "outputs": [
    {
     "data": {
      "text/plain": [
       "700.0"
      ]
     },
     "execution_count": 7,
     "metadata": {},
     "output_type": "execute_result"
    }
   ],
   "source": [
    "cliente2 = Conta(200.00,4321)\n",
    "cliente.transferencia(500,cliente2)\n",
    "cliente2.get_saldo()"
   ]
  },
  {
   "cell_type": "code",
   "execution_count": null,
   "metadata": {},
   "outputs": [],
   "source": []
  }
 ],
 "metadata": {
  "kernelspec": {
   "display_name": "Python 3",
   "language": "python",
   "name": "python3"
  },
  "language_info": {
   "codemirror_mode": {
    "name": "ipython",
    "version": 3
   },
   "file_extension": ".py",
   "mimetype": "text/x-python",
   "name": "python",
   "nbconvert_exporter": "python",
   "pygments_lexer": "ipython3",
   "version": "3.7.3"
  }
 },
 "nbformat": 4,
 "nbformat_minor": 2
}
